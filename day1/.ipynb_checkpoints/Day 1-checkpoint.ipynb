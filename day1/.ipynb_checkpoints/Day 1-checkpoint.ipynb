{
 "cells": [
  {
   "cell_type": "code",
   "execution_count": 17,
   "metadata": {},
   "outputs": [],
   "source": [
    "import math"
   ]
  },
  {
   "cell_type": "code",
   "execution_count": 18,
   "metadata": {},
   "outputs": [],
   "source": [
    "with open('input.txt') as f:\n",
    "    input = f.read()"
   ]
  },
  {
   "cell_type": "code",
   "execution_count": 19,
   "metadata": {},
   "outputs": [],
   "source": [
    "parts_s = input.split()"
   ]
  },
  {
   "cell_type": "code",
   "execution_count": 20,
   "metadata": {},
   "outputs": [
    {
     "name": "stdout",
     "output_type": "stream",
     "text": [
      "[87201, 146745, 99430, 67664, 67482, 72598, 114480, 111866, 146672, 51465, 59100, 87507, 106993, 61427, 97982, 133329, 133510, 117352, 58800, 129228, 102366, 77934, 149630, 71567, 139965, 130271, 53259, 134032, 54158, 74679, 148463, 101585, 51744, 112537, 59140, 92980, 83174, 67797, 58890, 55849, 50424, 112780, 104595, 114465, 90528, 86503, 51661, 124689, 101081, 81478, 124821, 83420, 108738, 76506, 111217, 104897, 133747, 128808, 81563, 106688, 67129, 130968, 75576, 101197, 129318, 135015, 149839, 110182, 104687, 147803, 140555, 70447, 63224, 85143, 146115, 77789, 64003, 115257, 61397, 86873, 143481, 129785, 68764, 99388, 91050, 109136, 101777, 98104, 103643, 131374, 83808, 125949, 147277, 144448, 112673, 136408, 75776, 141630, 116821, 113349]\n"
     ]
    }
   ],
   "source": [
    "parts_int = [int(part) for part in parts_s]\n",
    "print(parts_int)"
   ]
  },
  {
   "cell_type": "code",
   "execution_count": 21,
   "metadata": {},
   "outputs": [],
   "source": [
    "def fuel_for_part(part):\n",
    "    return math.floor(part / 3) - 2"
   ]
  },
  {
   "cell_type": "code",
   "execution_count": 22,
   "metadata": {},
   "outputs": [
    {
     "name": "stdout",
     "output_type": "stream",
     "text": [
      "[29065, 48913, 33141, 22552, 22492, 24197, 38158, 37286, 48888, 17153, 19698, 29167, 35662, 20473, 32658, 44441, 44501, 39115, 19598, 43074, 34120, 25976, 49874, 23853, 46653, 43421, 17751, 44675, 18050, 24891, 49485, 33859, 17246, 37510, 19711, 30991, 27722, 22597, 19628, 18614, 16806, 37591, 34863, 38153, 30174, 28832, 17218, 41561, 33691, 27157, 41605, 27804, 36244, 25500, 37070, 34963, 44580, 42934, 27185, 35560, 22374, 43654, 25190, 33730, 43104, 45003, 49944, 36725, 34893, 49265, 46849, 23480, 21072, 28379, 48703, 25927, 21332, 38417, 20463, 28955, 47825, 43259, 22919, 33127, 30348, 36376, 33923, 32699, 34545, 43789, 27934, 41981, 49090, 48147, 37555, 45467, 25256, 47208, 38938, 37781]\n"
     ]
    }
   ],
   "source": [
    "fuels = [fuel_for_part(part) for part in parts_int]\n",
    "print(fuels)"
   ]
  },
  {
   "cell_type": "code",
   "execution_count": null,
   "metadata": {},
   "outputs": [],
   "source": [
    "total_fuel = sum(fuels)\n",
    "print(total_fuel)"
   ]
  },
  {
   "cell_type": "code",
   "execution_count": 52,
   "metadata": {},
   "outputs": [],
   "source": [
    "def fuels_for_fuel(fuel):\n",
    "    next_fuel = math.floor(fuel / 3) - 2\n",
    "    if next_fuel <= 0:\n",
    "        return 0\n",
    "    else:\n",
    "        return next_fuel + fuels_for_fuel(next_fuel)\n",
    "        "
   ]
  },
  {
   "cell_type": "code",
   "execution_count": 53,
   "metadata": {},
   "outputs": [
    {
     "name": "stdout",
     "output_type": "stream",
     "text": [
      "312\n"
     ]
    }
   ],
   "source": [
    "print(fuels_for_fuel(654))"
   ]
  },
  {
   "cell_type": "code",
   "execution_count": 54,
   "metadata": {},
   "outputs": [],
   "source": [
    "mass_fuel_req = sum(fuels)"
   ]
  },
  {
   "cell_type": "code",
   "execution_count": 55,
   "metadata": {},
   "outputs": [
    {
     "data": {
      "text/plain": [
       "3361976"
      ]
     },
     "execution_count": 55,
     "metadata": {},
     "output_type": "execute_result"
    }
   ],
   "source": [
    "mass_fuel_req"
   ]
  },
  {
   "cell_type": "code",
   "execution_count": 56,
   "metadata": {},
   "outputs": [
    {
     "name": "stdout",
     "output_type": "stream",
     "text": [
      "[14503, 24427, 16543, 11248, 11218, 12070, 19051, 18615, 24415, 8549, 9824, 14557, 17801, 10210, 16300, 22190, 22221, 19526, 9769, 21508, 17031, 12958, 24906, 11898, 23300, 21680, 8850, 22307, 8997, 12419, 24711, 16902, 8594, 18727, 9830, 15466, 13833, 11273, 9786, 9279, 8377, 18767, 17403, 19048, 15059, 14386, 8581, 20753, 16816, 13550, 20775, 13874, 18093, 12720, 18505, 17452, 22261, 21437, 13563, 17752, 11160, 21795, 12567, 16837, 21523, 22471, 24941, 18333, 17417, 24602, 23395, 11711, 10508, 14160, 24321, 12935, 10638, 19178, 10206, 14449, 23882, 21600, 11430, 16537, 15145, 18159, 16932, 16319, 17244, 21865, 13938, 20960, 24516, 24046, 18749, 22704, 12598, 23574, 19439, 18861]\n"
     ]
    }
   ],
   "source": [
    "extra_fuels = [fuels_for_fuel(f) for f in fuels]\n",
    "print(extra_fuels)"
   ]
  },
  {
   "cell_type": "code",
   "execution_count": 57,
   "metadata": {},
   "outputs": [
    {
     "data": {
      "text/plain": [
       "1678109"
      ]
     },
     "execution_count": 57,
     "metadata": {},
     "output_type": "execute_result"
    }
   ],
   "source": [
    "extra_fuel_req = sum(extra_fuels)\n",
    "extra_fuel_req"
   ]
  },
  {
   "cell_type": "code",
   "execution_count": 58,
   "metadata": {},
   "outputs": [],
   "source": [
    "total = mass_fuel_req + extra_fuel_req"
   ]
  },
  {
   "cell_type": "code",
   "execution_count": 59,
   "metadata": {},
   "outputs": [
    {
     "data": {
      "text/plain": [
       "5040085"
      ]
     },
     "execution_count": 59,
     "metadata": {},
     "output_type": "execute_result"
    }
   ],
   "source": [
    "total"
   ]
  },
  {
   "cell_type": "code",
   "execution_count": null,
   "metadata": {},
   "outputs": [],
   "source": []
  }
 ],
 "metadata": {
  "kernelspec": {
   "display_name": "Python 3",
   "language": "python",
   "name": "python3"
  },
  "language_info": {
   "codemirror_mode": {
    "name": "ipython",
    "version": 3
   },
   "file_extension": ".py",
   "mimetype": "text/x-python",
   "name": "python",
   "nbconvert_exporter": "python",
   "pygments_lexer": "ipython3",
   "version": "3.7.1"
  }
 },
 "nbformat": 4,
 "nbformat_minor": 2
}
